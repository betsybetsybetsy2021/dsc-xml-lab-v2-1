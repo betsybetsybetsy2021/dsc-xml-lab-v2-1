{
 "cells": [
  {
   "cell_type": "markdown",
   "metadata": {},
   "source": [
    "# XML - Lab"
   ]
  },
  {
   "cell_type": "markdown",
   "metadata": {},
   "source": [
    "## Introduction\n",
    "\n",
    "In this lab, you'll practice navigating XML data structures."
   ]
  },
  {
   "cell_type": "markdown",
   "metadata": {},
   "source": [
    "## Objectives\n",
    "You will be able to:\n",
    "* Use the XML module to load and parse XML data\n"
   ]
  },
  {
   "cell_type": "markdown",
   "metadata": {},
   "source": [
    "## XML"
   ]
  },
  {
   "cell_type": "code",
   "execution_count": 1,
   "metadata": {
    "execution": {
     "iopub.execute_input": "2023-05-11T23:18:17.994090Z",
     "iopub.status.busy": "2023-05-11T23:18:17.993701Z",
     "iopub.status.idle": "2023-05-11T23:18:18.017757Z",
     "shell.execute_reply": "2023-05-11T23:18:18.017065Z",
     "shell.execute_reply.started": "2023-05-11T23:18:17.994059Z"
    }
   },
   "outputs": [],
   "source": [
    "import xml.etree.ElementTree as ET"
   ]
  },
  {
   "cell_type": "markdown",
   "metadata": {},
   "source": [
    "### Create an XML tree and retrieve the root tag."
   ]
  },
  {
   "cell_type": "code",
   "execution_count": 2,
   "metadata": {
    "execution": {
     "iopub.execute_input": "2023-05-11T23:19:21.969379Z",
     "iopub.status.busy": "2023-05-11T23:19:21.969020Z",
     "iopub.status.idle": "2023-05-11T23:19:21.978839Z",
     "shell.execute_reply": "2023-05-11T23:19:21.978178Z",
     "shell.execute_reply.started": "2023-05-11T23:19:21.969353Z"
    }
   },
   "outputs": [],
   "source": [
    "tree = ET.parse('nyc_2001_campaign_finance.xml')\n",
    "root = tree.getroot()"
   ]
  },
  {
   "cell_type": "markdown",
   "metadata": {},
   "source": [
    "### How many direct descendents does the root tag have?"
   ]
  },
  {
   "cell_type": "code",
   "execution_count": 3,
   "metadata": {
    "execution": {
     "iopub.execute_input": "2023-05-11T23:19:38.695482Z",
     "iopub.status.busy": "2023-05-11T23:19:38.695119Z",
     "iopub.status.idle": "2023-05-11T23:19:38.699829Z",
     "shell.execute_reply": "2023-05-11T23:19:38.699016Z",
     "shell.execute_reply.started": "2023-05-11T23:19:38.695456Z"
    }
   },
   "outputs": [
    {
     "name": "stdout",
     "output_type": "stream",
     "text": [
      "1\n"
     ]
    }
   ],
   "source": [
    "print(len(root))"
   ]
  },
  {
   "cell_type": "markdown",
   "metadata": {},
   "source": [
    "### How many different types of tags are there within the entire XML file?"
   ]
  },
  {
   "cell_type": "code",
   "execution_count": 4,
   "metadata": {
    "execution": {
     "iopub.execute_input": "2023-05-11T23:20:10.532310Z",
     "iopub.status.busy": "2023-05-11T23:20:10.531946Z",
     "iopub.status.idle": "2023-05-11T23:20:10.537907Z",
     "shell.execute_reply": "2023-05-11T23:20:10.537137Z",
     "shell.execute_reply.started": "2023-05-11T23:20:10.532284Z"
    }
   },
   "outputs": [
    {
     "name": "stdout",
     "output_type": "stream",
     "text": [
      "{'election', 'row', 'primarypay', 'response', 'totalpay', 'officecd', 'generalpay', 'runoffpay', 'officedist', 'candname', 'officeboro', 'canclass', 'candid'}\n",
      "There are 13 Unique tags in this XML file.\n"
     ]
    }
   ],
   "source": [
    "count = 0\n",
    "tag_list = []\n",
    "for element in root.iter():\n",
    "    count += 1\n",
    "    tag_list.append(element.tag) #appending all tags through the iteration to the list\n",
    "tag_list = set(tag_list)    # removing duplicate tags\n",
    "print (tag_list)\n",
    "print ('There are ' + str(len(tag_list)) + ' Unique tags in this XML file.')"
   ]
  },
  {
   "cell_type": "markdown",
   "metadata": {},
   "source": [
    "### Create a DataFrame listing the number of each type of tag. \n",
    "Sort the DataFrame in descending order by the tag count. The first entry should demonstrate there are 286 row tags in the XML file.   \n",
    "(Your DataFrame will be a single column, so could also be thought of as a Series.)"
   ]
  },
  {
   "cell_type": "code",
   "execution_count": 7,
   "metadata": {
    "execution": {
     "iopub.execute_input": "2023-05-11T23:23:41.637499Z",
     "iopub.status.busy": "2023-05-11T23:23:41.637133Z",
     "iopub.status.idle": "2023-05-11T23:23:42.945507Z",
     "shell.execute_reply": "2023-05-11T23:23:42.944812Z",
     "shell.execute_reply.started": "2023-05-11T23:23:41.637474Z"
    }
   },
   "outputs": [],
   "source": [
    "import pandas as pd"
   ]
  },
  {
   "cell_type": "code",
   "execution_count": 31,
   "metadata": {
    "execution": {
     "iopub.execute_input": "2023-05-11T23:54:16.039710Z",
     "iopub.status.busy": "2023-05-11T23:54:16.039333Z",
     "iopub.status.idle": "2023-05-11T23:54:16.053209Z",
     "shell.execute_reply": "2023-05-11T23:54:16.052259Z",
     "shell.execute_reply.started": "2023-05-11T23:54:16.039683Z"
    },
    "tags": []
   },
   "outputs": [
    {
     "name": "stdout",
     "output_type": "stream",
     "text": [
      "            Tag Count\n",
      "row               286\n",
      "candname          285\n",
      "canclass          285\n",
      "candid            285\n",
      "election          284\n",
      "primarypay        284\n",
      "totalpay          284\n",
      "officecd          284\n",
      "generalpay        284\n",
      "runoffpay         284\n",
      "officedist        245\n",
      "officeboro         21\n",
      "response            1\n"
     ]
    }
   ],
   "source": [
    "# Create Dataframe with Index of Tags from list, tag_list\n",
    "\n",
    "tag_count_list = []\n",
    "\n",
    "for tag in tag_list:\n",
    "    tag_count = 0\n",
    "    for element in root.iter():\n",
    "        if element.tag == tag:\n",
    "            tag_count +=1\n",
    "    tag_count_list.append(tag_count)\n",
    "            \n",
    "    #print(str(tag) + \":  \" + str(tag_count))\n",
    "    \n",
    "df = pd.DataFrame(tag_count_list, index = tag_list, columns =['Tag Count'])\n",
    "\n",
    "print (df.sort_values(by=['Tag Count'], ascending=False))"
   ]
  },
  {
   "cell_type": "markdown",
   "metadata": {},
   "source": [
    "## Summary\n",
    "\n",
    "Congratulations! You've started exploring XML data structures used for the web and got to practice data munging and exploring!"
   ]
  }
 ],
 "metadata": {
  "kernelspec": {
   "display_name": "saturn (Python 3)",
   "language": "python",
   "name": "python3"
  },
  "language_info": {
   "codemirror_mode": {
    "name": "ipython",
    "version": 3
   },
   "file_extension": ".py",
   "mimetype": "text/x-python",
   "name": "python",
   "nbconvert_exporter": "python",
   "pygments_lexer": "ipython3",
   "version": "3.9.15"
  },
  "toc": {
   "base_numbering": 1,
   "nav_menu": {},
   "number_sections": true,
   "sideBar": true,
   "skip_h1_title": false,
   "title_cell": "Table of Contents",
   "title_sidebar": "Contents",
   "toc_cell": false,
   "toc_position": {},
   "toc_section_display": true,
   "toc_window_display": false
  }
 },
 "nbformat": 4,
 "nbformat_minor": 4
}
